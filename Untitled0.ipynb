{
  "nbformat": 4,
  "nbformat_minor": 0,
  "metadata": {
    "colab": {
      "provenance": [],
      "include_colab_link": true
    },
    "kernelspec": {
      "name": "python3",
      "display_name": "Python 3"
    },
    "language_info": {
      "name": "python"
    }
  },
  "cells": [
    {
      "cell_type": "markdown",
      "metadata": {
        "id": "view-in-github",
        "colab_type": "text"
      },
      "source": [
        "<a href=\"https://colab.research.google.com/github/tchangbr/MDL2025/blob/main/Untitled0.ipynb\" target=\"_parent\"><img src=\"https://colab.research.google.com/assets/colab-badge.svg\" alt=\"Open In Colab\"/></a>"
      ]
    },
    {
      "cell_type": "markdown",
      "source": [],
      "metadata": {
        "id": "4CQctVXtzZC6"
      }
    },
    {
      "cell_type": "code",
      "source": [
        "print (\"heheh\")"
      ],
      "metadata": {
        "colab": {
          "base_uri": "https://localhost:8080/"
        },
        "id": "Qylv8AvizZ2F",
        "outputId": "58673d77-6cf1-4dbb-8bc7-9a07e5fab793"
      },
      "execution_count": 2,
      "outputs": [
        {
          "output_type": "stream",
          "name": "stdout",
          "text": [
            "heheh\n"
          ]
        }
      ]
    },
    {
      "cell_type": "code",
      "source": [
        "# pring"
      ],
      "metadata": {
        "id": "7MWh_PgAzji1"
      },
      "execution_count": null,
      "outputs": []
    }
  ]
}